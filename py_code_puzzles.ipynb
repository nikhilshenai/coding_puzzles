{
  "nbformat": 4,
  "nbformat_minor": 0,
  "metadata": {
    "colab": {
      "provenance": [],
      "toc_visible": true
    },
    "kernelspec": {
      "name": "python3",
      "display_name": "Python 3"
    },
    "language_info": {
      "name": "python"
    }
  },
  "cells": [
    {
      "cell_type": "code",
      "execution_count": null,
      "metadata": {
        "id": "5JOaPoiOpnX0"
      },
      "outputs": [],
      "source": [
        "import pandas as pd\n",
        "import numpy as np\n",
        "import math"
      ]
    },
    {
      "cell_type": "markdown",
      "source": [
        "## Divide without division"
      ],
      "metadata": {
        "id": "HMHNqyqBanKT"
      }
    },
    {
      "cell_type": "code",
      "source": [
        "def divide(n,d):\n",
        "\n",
        "  if n == 0 :\n",
        "    return 0\n",
        "  elif d == 0:\n",
        "    print('Cannot divide by 0!')\n",
        "  else:\n",
        "\n",
        "    sign = -1 if (n <0) or (d<0) else 1\n",
        "\n",
        "    n = abs(n)\n",
        "    d = abs(d)\n",
        "\n",
        "    q = 0\n",
        "    while n>=d:\n",
        "      n -= d\n",
        "      q += 1\n",
        "\n",
        "    return q * sign"
      ],
      "metadata": {
        "id": "ND6NJyWwqPH8"
      },
      "execution_count": null,
      "outputs": []
    },
    {
      "cell_type": "markdown",
      "source": [
        "## Find anagrams"
      ],
      "metadata": {
        "id": "pmS4T_iJauEC"
      }
    },
    {
      "cell_type": "code",
      "source": [
        "words = [\"listen\", \"silent\", \"enlist\", \"apple\", \"banana\", \"lemon\", \"melon\"]"
      ],
      "metadata": {
        "id": "cvUSu6atw1gW"
      },
      "execution_count": null,
      "outputs": []
    },
    {
      "cell_type": "code",
      "source": [
        "def find_anagrams(words):\n",
        "  anag_dict = {w:str(set(w)) for w in words}\n",
        "  unq_vals = list(set(list(anag_dict.values())))\n",
        "\n",
        "  anagrams = []\n",
        "  for uv in unq_vals:\n",
        "    anagrams.append([k for k,v in anag_dict.items() if v == uv])\n",
        "\n",
        "  return anagrams"
      ],
      "metadata": {
        "id": "lcmrc1J01NsI"
      },
      "execution_count": null,
      "outputs": []
    },
    {
      "cell_type": "code",
      "source": [
        "find_anagrams(words)"
      ],
      "metadata": {
        "colab": {
          "base_uri": "https://localhost:8080/"
        },
        "id": "Y1PvZ24P8QVx",
        "outputId": "08453811-7d57-4b5b-fdab-1040407f892d"
      },
      "execution_count": null,
      "outputs": [
        {
          "output_type": "execute_result",
          "data": {
            "text/plain": [
              "[['lemon', 'melon'], ['apple'], ['banana'], ['listen', 'silent', 'enlist']]"
            ]
          },
          "metadata": {},
          "execution_count": 23
        }
      ]
    },
    {
      "cell_type": "markdown",
      "source": [
        "Alternate approach"
      ],
      "metadata": {
        "id": "_muXAE4ka825"
      }
    },
    {
      "cell_type": "code",
      "source": [],
      "metadata": {
        "id": "6YeqOrU7a7rr"
      },
      "execution_count": null,
      "outputs": []
    },
    {
      "cell_type": "code",
      "source": [
        "\n",
        "def find_anagrams(words):\n",
        "    from collections import defaultdict\n",
        "\n",
        "    # Dictionary to store groups of anagrams\n",
        "    anagrams_dict = defaultdict(list)\n",
        "\n",
        "    # Populate the dictionary with words grouped by sorted characters\n",
        "    for word in words:\n",
        "        sorted_word = ''.join(sorted(word))\n",
        "        anagrams_dict[sorted_word].append(word)\n",
        "\n",
        "    # Convert the dictionary values to a list of lists\n",
        "    anagram_groups = list(anagrams_dict.values())\n",
        "\n",
        "    return anagram_groups"
      ],
      "metadata": {
        "id": "8zALdZip8RiX"
      },
      "execution_count": null,
      "outputs": []
    },
    {
      "cell_type": "code",
      "source": [
        "find_anagrams(words)"
      ],
      "metadata": {
        "colab": {
          "base_uri": "https://localhost:8080/"
        },
        "id": "mWtj2wHY8Z8U",
        "outputId": "ba5e154a-c56d-4ade-b9e6-8897c9ec09ea"
      },
      "execution_count": null,
      "outputs": [
        {
          "output_type": "execute_result",
          "data": {
            "text/plain": [
              "[['listen', 'silent', 'enlist'], ['apple'], ['banana'], ['lemon', 'melon']]"
            ]
          },
          "metadata": {},
          "execution_count": 26
        }
      ]
    },
    {
      "cell_type": "code",
      "source": [
        "from collections import defaultdict\n",
        "\n",
        "# Dictionary to store groups of anagrams\n",
        "anagrams_dict = defaultdict(list)"
      ],
      "metadata": {
        "id": "OSm9Wuxt8d7i"
      },
      "execution_count": null,
      "outputs": []
    },
    {
      "cell_type": "code",
      "source": [],
      "metadata": {
        "id": "Usih2ayE8mJh"
      },
      "execution_count": null,
      "outputs": []
    },
    {
      "cell_type": "markdown",
      "source": [
        "# Median of medians"
      ],
      "metadata": {
        "id": "eS7sSXNTazn8"
      }
    },
    {
      "cell_type": "code",
      "source": [
        "nums = [3, 1, 7, 5, 9, 2, 8, 4, 6]"
      ],
      "metadata": {
        "id": "MXbTxzqCa1-b"
      },
      "execution_count": null,
      "outputs": []
    },
    {
      "cell_type": "code",
      "source": [
        " #--- FUNCTION TO COMPUTE MEDIAN\n",
        "def find_median(l):\n",
        "  l = sorted(l)\n",
        "  if len(l) % 2 != 0:\n",
        "\n",
        "    m = l[int(len(l)/2)]\n",
        "  else:\n",
        "    m = int(np.floor((l[int((len(l)/2)-1)] + l[int((len(l)/2))])/2))\n",
        "\n",
        "  return m\n",
        "\n",
        "#--- DIVIDING IN CHUNKS\n",
        "def divide_chunks(l, n):\n",
        "  x = [l[i:i + n] for i in range(0, len(l), n)]\n",
        "  return x"
      ],
      "metadata": {
        "id": "V5ea8ZSUn3gt"
      },
      "execution_count": null,
      "outputs": []
    },
    {
      "cell_type": "code",
      "source": [
        "def median_of_medians(nums,n):\n",
        "  while len(nums) < 1:\n",
        "\n",
        "    lists = divide_chunks(nums,5)\n",
        "    lists = [find_median(l) for l in lists]\n",
        "\n",
        "    nums = lists\n",
        "\n",
        "  return nums[0]"
      ],
      "metadata": {
        "id": "Ds0bFQzjox7R"
      },
      "execution_count": null,
      "outputs": []
    },
    {
      "cell_type": "code",
      "source": [
        "nums1 = [3, 1, 7, 5, 2, 8, 4, 6]\n",
        "nums2 = [5,5,5,5,5,5,4]"
      ],
      "metadata": {
        "id": "tJoI9gqfrSve"
      },
      "execution_count": null,
      "outputs": []
    },
    {
      "cell_type": "code",
      "source": [
        "median_of_medians(nums2,5)"
      ],
      "metadata": {
        "colab": {
          "base_uri": "https://localhost:8080/"
        },
        "id": "oVaRpMHnuZRb",
        "outputId": "edcd8d79-2780-45ca-f78a-3069285021ab"
      },
      "execution_count": null,
      "outputs": [
        {
          "output_type": "execute_result",
          "data": {
            "text/plain": [
              "5"
            ]
          },
          "metadata": {},
          "execution_count": 28
        }
      ]
    },
    {
      "cell_type": "markdown",
      "source": [
        "Alternate approach"
      ],
      "metadata": {
        "id": "qRhh7FfiuA0V"
      }
    },
    {
      "cell_type": "code",
      "source": [
        "def median_of_medians_gpt(nums):\n",
        "    if len(nums) == 1:\n",
        "        return nums[0]\n",
        "\n",
        "    groups = [sorted(nums[i:i+5]) for i in range(0, len(nums), 5)]\n",
        "    medians = [group[len(group)//2] for group in groups]\n",
        "\n",
        "    if len(medians) <= 5:\n",
        "        pivot = sorted(medians)[len(medians)//2]\n",
        "    else:\n",
        "        pivot = median_of_medians(medians)\n",
        "\n",
        "    left = [num for num in nums if num < pivot]\n",
        "    right = [num for num in nums if num > pivot]\n",
        "\n",
        "    k = len(left)\n",
        "    if k == len(nums) // 2:\n",
        "        return pivot\n",
        "    elif k < len(nums) // 2:\n",
        "        return median_of_medians(right)\n",
        "    else:\n",
        "        return median_of_medians(left)"
      ],
      "metadata": {
        "id": "NR10Uchkt0t3"
      },
      "execution_count": null,
      "outputs": []
    },
    {
      "cell_type": "code",
      "source": [
        "median_of_medians_gpt(nums)"
      ],
      "metadata": {
        "colab": {
          "base_uri": "https://localhost:8080/"
        },
        "id": "UUEWEHUFt1-U",
        "outputId": "1c83a5f8-ebd8-4a07-a85f-b477a27687eb"
      },
      "execution_count": null,
      "outputs": [
        {
          "output_type": "execute_result",
          "data": {
            "text/plain": [
              "5"
            ]
          },
          "metadata": {},
          "execution_count": 30
        }
      ]
    },
    {
      "cell_type": "markdown",
      "source": [
        "# Mulitply without multiplication"
      ],
      "metadata": {
        "id": "-vS3zukQ9L2g"
      }
    },
    {
      "cell_type": "code",
      "source": [
        "x = 25\n",
        "y = 17"
      ],
      "metadata": {
        "id": "Lme99tqvvqwB"
      },
      "execution_count": null,
      "outputs": []
    },
    {
      "cell_type": "code",
      "source": [
        "def multiply(x,y):\n",
        "  counter = 0\n",
        "  res = 0\n",
        "  while counter != y:\n",
        "    res += x\n",
        "    counter +=1\n",
        "\n",
        "  return res"
      ],
      "metadata": {
        "id": "byRFsqx4eMyB"
      },
      "execution_count": null,
      "outputs": []
    },
    {
      "cell_type": "code",
      "source": [
        "multiply(x,y)"
      ],
      "metadata": {
        "colab": {
          "base_uri": "https://localhost:8080/"
        },
        "id": "8L9V-Dbo9012",
        "outputId": "8d05cb7a-7d5c-4119-b448-d0c08febe568"
      },
      "execution_count": null,
      "outputs": [
        {
          "output_type": "execute_result",
          "data": {
            "text/plain": [
              "425"
            ]
          },
          "metadata": {},
          "execution_count": 5
        }
      ]
    },
    {
      "cell_type": "markdown",
      "source": [
        "# Roman to Numeric"
      ],
      "metadata": {
        "id": "BmLNK862itRv"
      }
    },
    {
      "cell_type": "code",
      "source": [
        "def romanToInt(self, s: str) -> int:\n",
        "    m = {\n",
        "        'I': 1,\n",
        "        'V': 5,\n",
        "        'X': 10,\n",
        "        'L': 50,\n",
        "        'C': 100,\n",
        "        'D': 500,\n",
        "        'M': 1000\n",
        "    }\n",
        "\n",
        "    ans = 0\n",
        "\n",
        "    for i in range(len(s)):\n",
        "        if i < len(s) - 1 and m[s[i]] < m[s[i+1]]:\n",
        "            ans -= m[s[i]]\n",
        "        else:\n",
        "            ans += m[s[i]]\n",
        "\n",
        "    return ans"
      ],
      "metadata": {
        "id": "XkSkgDeJiszN"
      },
      "execution_count": null,
      "outputs": []
    },
    {
      "cell_type": "markdown",
      "source": [
        "# Numeric to Roman"
      ],
      "metadata": {
        "id": "bfQfen5xoZxC"
      }
    },
    {
      "cell_type": "code",
      "source": [
        "def intToRoman(num):\n",
        "  # Creating Dictionary for Lookup\n",
        "  num_map = {\n",
        "      1: \"I\",\n",
        "      5: \"V\",    4: \"IV\",\n",
        "      10: \"X\",   9: \"IX\",\n",
        "      50: \"L\",   40: \"XL\",\n",
        "      100: \"C\",  90: \"XC\",\n",
        "      500: \"D\",  400: \"CD\",\n",
        "      1000: \"M\", 900: \"CM\",\n",
        "  }\n",
        "\n",
        "  # Result Variable\n",
        "  r = ''\n",
        "\n",
        "\n",
        "  for n in [1000, 900, 500, 400, 100, 90, 50, 40, 10, 9, 5, 4, 1]:\n",
        "      # If n in list then add the roman value to result variable\n",
        "      while n <= num:\n",
        "          r += num_map[n]; print(r)\n",
        "          num-=n\n",
        "  return r"
      ],
      "metadata": {
        "id": "rt7K2de9l8GC"
      },
      "execution_count": null,
      "outputs": []
    },
    {
      "cell_type": "markdown",
      "source": [
        "# Two Sum"
      ],
      "metadata": {
        "id": "BPmmAi4ATyFD"
      }
    },
    {
      "cell_type": "code",
      "source": [
        "nums = [1,6,4,8,7]\n",
        "target = 14"
      ],
      "metadata": {
        "id": "Oa4I84tDmEVE"
      },
      "execution_count": null,
      "outputs": []
    },
    {
      "cell_type": "code",
      "source": [
        "def two_sum(nums, target):\n",
        "  d = {}\n",
        "  for n in nums:\n",
        "    diff = target - n\n",
        "\n",
        "    if diff in nums and diff != n:\n",
        "      d[n] = diff\n",
        "    key_idx = [nums.index(k) for k in d.keys()]\n",
        "    return key_idx"
      ],
      "metadata": {
        "id": "bgozBQizV0h7"
      },
      "execution_count": null,
      "outputs": []
    },
    {
      "cell_type": "code",
      "source": [
        "two_sum(nums,target)"
      ],
      "metadata": {
        "colab": {
          "base_uri": "https://localhost:8080/"
        },
        "id": "Buh3AWSFWcFG",
        "outputId": "7c800f8c-d481-42a6-9d19-45327d5e136e"
      },
      "execution_count": null,
      "outputs": [
        {
          "output_type": "execute_result",
          "data": {
            "text/plain": [
              "[]"
            ]
          },
          "metadata": {},
          "execution_count": 74
        }
      ]
    },
    {
      "cell_type": "markdown",
      "source": [
        "Alternate approach"
      ],
      "metadata": {
        "id": "LIYPaaHEfwmU"
      }
    },
    {
      "cell_type": "code",
      "source": [
        "def two_sum(nums, target):\n",
        "    num_map = {}\n",
        "    for i, num in enumerate(nums):\n",
        "        complement = target - num\n",
        "        if complement in num_map:\n",
        "            return [num_map[complement], i]\n",
        "        num_map[num] = i\n",
        "    return []  # No solution found, though problem guarantees exactly one solution\n",
        "\n",
        "# Example usage:\n",
        "nums = [1,6,4,8,7]\n",
        "target = 14\n",
        "print(two_sum(nums, target))  # Output: [0, 1]\n"
      ],
      "metadata": {
        "colab": {
          "base_uri": "https://localhost:8080/"
        },
        "id": "GBSs-23VWdwK",
        "outputId": "b9bddde8-fd65-41ee-c5b2-b41c5609783d"
      },
      "execution_count": null,
      "outputs": [
        {
          "output_type": "stream",
          "name": "stdout",
          "text": [
            "[1, 3]\n"
          ]
        }
      ]
    },
    {
      "cell_type": "markdown",
      "source": [
        "# Average Wait time (Re-attempt)"
      ],
      "metadata": {
        "id": "fNWYhMQfhZAu"
      }
    },
    {
      "cell_type": "code",
      "source": [
        "customers = [[1,2],[2,5],[4,3]]"
      ],
      "metadata": {
        "id": "yKpifH0xgvA1"
      },
      "execution_count": null,
      "outputs": []
    },
    {
      "cell_type": "code",
      "source": [
        "available_at = 0\n",
        "total_wait = 0\n",
        "for arrival, t in customers:\n",
        "    available_at = max(available_at, arrival) + t\n",
        "    total_wait += available_at - arrival\n",
        "    print(arrival, available_at, total_wait)\n",
        "print(total_wait / len(customers))"
      ],
      "metadata": {
        "colab": {
          "base_uri": "https://localhost:8080/"
        },
        "id": "EayGBVkbc2gG",
        "outputId": "1a8ca905-c53c-4f7d-868b-cee08e354751"
      },
      "execution_count": null,
      "outputs": [
        {
          "output_type": "stream",
          "name": "stdout",
          "text": [
            "1 3 2\n",
            "2 8 8\n",
            "4 11 15\n",
            "5.0\n"
          ]
        }
      ]
    },
    {
      "cell_type": "markdown",
      "source": [
        "# First Palindromic String"
      ],
      "metadata": {
        "id": "YhHioKhSpLQv"
      }
    },
    {
      "cell_type": "code",
      "source": [
        "words = [\"abc\",\"car\",\"ada\",\"racecar\",\"cool\"]\n",
        "# words = [\"notapalindrome\",\"racecar\"]"
      ],
      "metadata": {
        "id": "568_2R4rgort"
      },
      "execution_count": null,
      "outputs": []
    },
    {
      "cell_type": "code",
      "source": [
        "def firstPalindrome(words):\n",
        "  for w in words:\n",
        "    if w == w[::-1]:\n",
        "      return w\n",
        "\n",
        "  return \"\""
      ],
      "metadata": {
        "id": "3at8KO-pgp-l"
      },
      "execution_count": null,
      "outputs": []
    },
    {
      "cell_type": "code",
      "source": [
        "firstPalindrome(words)"
      ],
      "metadata": {
        "colab": {
          "base_uri": "https://localhost:8080/",
          "height": 35
        },
        "id": "QsQbYllBg9Tz",
        "outputId": "87254fcf-801e-4ce7-ff46-ee8d3a8ccb42"
      },
      "execution_count": null,
      "outputs": [
        {
          "output_type": "execute_result",
          "data": {
            "text/plain": [
              "'ada'"
            ],
            "application/vnd.google.colaboratory.intrinsic+json": {
              "type": "string"
            }
          },
          "metadata": {},
          "execution_count": 51
        }
      ]
    },
    {
      "cell_type": "markdown",
      "source": [
        "# Rearrange array"
      ],
      "metadata": {
        "id": "omJHbS6Covf6"
      }
    },
    {
      "cell_type": "code",
      "source": [
        "nums = [3,1,-2,-5,2,-4]"
      ],
      "metadata": {
        "id": "SsX12ug6h6hk"
      },
      "execution_count": null,
      "outputs": []
    },
    {
      "cell_type": "code",
      "source": [
        "def rearrangeArray(nums):\n",
        "    pos = [n for n in nums if n >=0]\n",
        "    neg = [n for n in nums if n <0]\n",
        "\n",
        "    for index,position in enumerate(range(0,len(nums),2), start=0):\n",
        "        nums[position]=pos[index]\n",
        "        nums[position+1]=neg[index]\n",
        "\n",
        "    return nums"
      ],
      "metadata": {
        "colab": {
          "base_uri": "https://localhost:8080/"
        },
        "id": "knUinO9KlqXp",
        "outputId": "fdaa2297-b8ee-4579-f4a2-58bf6f2bf0a6"
      },
      "execution_count": null,
      "outputs": [
        {
          "output_type": "stream",
          "name": "stdout",
          "text": [
            "3\n",
            "1\n",
            "2\n"
          ]
        }
      ]
    },
    {
      "cell_type": "code",
      "source": [],
      "metadata": {
        "colab": {
          "base_uri": "https://localhost:8080/"
        },
        "id": "Mg9EhP5Pl19n",
        "outputId": "780d3549-6621-4390-b56c-d415cdd13c49"
      },
      "execution_count": null,
      "outputs": [
        {
          "output_type": "stream",
          "name": "stdout",
          "text": [
            "0 0\n",
            "1 2\n",
            "2 4\n"
          ]
        }
      ]
    },
    {
      "cell_type": "markdown",
      "source": [
        "# New section"
      ],
      "metadata": {
        "id": "MP3rL0whevNe"
      }
    },
    {
      "cell_type": "code",
      "source": [
        "arr = [1,1,3,2,1]"
      ],
      "metadata": {
        "id": "Ew-VW7nFeyJu"
      },
      "execution_count": null,
      "outputs": []
    },
    {
      "cell_type": "code",
      "source": [
        "f_m = [0] * (len(set(arr))+1)"
      ],
      "metadata": {
        "id": "isZefKqDe5ZD"
      },
      "execution_count": null,
      "outputs": []
    },
    {
      "cell_type": "code",
      "source": [
        "for n in arr:\n",
        "  f_m[n] +=1"
      ],
      "metadata": {
        "id": "hmf5qIvAfCep"
      },
      "execution_count": null,
      "outputs": []
    },
    {
      "cell_type": "code",
      "source": [
        "f_m"
      ],
      "metadata": {
        "colab": {
          "base_uri": "https://localhost:8080/"
        },
        "id": "buSRRHe-fDMB",
        "outputId": "88df182b-4c66-4495-ce14-602c41b19455"
      },
      "execution_count": null,
      "outputs": [
        {
          "output_type": "execute_result",
          "data": {
            "text/plain": [
              "[0, 3, 1, 1]"
            ]
          },
          "metadata": {},
          "execution_count": 12
        }
      ]
    },
    {
      "cell_type": "code",
      "source": [
        "arr = [1,5,3,7,9]"
      ],
      "metadata": {
        "id": "J8qrwqPOfYIO"
      },
      "execution_count": null,
      "outputs": []
    },
    {
      "cell_type": "code",
      "source": [
        "arr.sort()"
      ],
      "metadata": {
        "id": "yk8I5Am6twP-"
      },
      "execution_count": null,
      "outputs": []
    },
    {
      "cell_type": "code",
      "source": [
        "sorted(arr)"
      ],
      "metadata": {
        "colab": {
          "base_uri": "https://localhost:8080/"
        },
        "id": "0E2G9a29txm2",
        "outputId": "acaee414-4d3e-408b-b708-16fe22e5081d"
      },
      "execution_count": null,
      "outputs": [
        {
          "output_type": "execute_result",
          "data": {
            "text/plain": [
              "[1, 3, 5, 7, 9]"
            ]
          },
          "metadata": {},
          "execution_count": 15
        }
      ]
    },
    {
      "cell_type": "code",
      "source": [
        "s='12:01:00PM'"
      ],
      "metadata": {
        "id": "rz3C9XnHtyuN"
      },
      "execution_count": null,
      "outputs": []
    },
    {
      "cell_type": "code",
      "source": [
        "s = s[:-2].split(':')"
      ],
      "metadata": {
        "id": "K9hZcoIwvyQj"
      },
      "execution_count": null,
      "outputs": []
    },
    {
      "cell_type": "code",
      "source": [
        "s[0] = '00'"
      ],
      "metadata": {
        "id": "zjipEjmCvzpJ"
      },
      "execution_count": null,
      "outputs": []
    },
    {
      "cell_type": "code",
      "source": [
        "':'.join(s)"
      ],
      "metadata": {
        "id": "TdwSBE71v756",
        "outputId": "9578f879-e7c8-4ef0-c0d3-93a979728b71",
        "colab": {
          "base_uri": "https://localhost:8080/",
          "height": 35
        }
      },
      "execution_count": null,
      "outputs": [
        {
          "output_type": "execute_result",
          "data": {
            "text/plain": [
              "'00:01:00'"
            ],
            "application/vnd.google.colaboratory.intrinsic+json": {
              "type": "string"
            }
          },
          "metadata": {},
          "execution_count": 21
        }
      ]
    },
    {
      "cell_type": "code",
      "source": [],
      "metadata": {
        "id": "1BfgXIGWv98w"
      },
      "execution_count": null,
      "outputs": []
    }
  ]
}